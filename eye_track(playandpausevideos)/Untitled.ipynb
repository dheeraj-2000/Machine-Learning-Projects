{
 "cells": [
  {
   "cell_type": "code",
   "execution_count": 1,
   "metadata": {},
   "outputs": [],
   "source": [
    "import numpy as np\n",
    "import serial\n",
    "import time\n",
    "import sys\n",
    "import cv2\n",
    "import pyautogui"
   ]
  },
  {
   "cell_type": "code",
   "execution_count": 2,
   "metadata": {},
   "outputs": [
    {
     "ename": "error",
     "evalue": "OpenCV(4.1.1) /io/opencv/modules/highgui/src/window_QT.cpp:592: error: (-27:Null pointer) NULL guiReceiver (please create a window) in function 'cvResizeWindow'\n",
     "output_type": "error",
     "traceback": [
      "\u001b[0;31m---------------------------------------------------------------------------\u001b[0m",
      "\u001b[0;31merror\u001b[0m                                     Traceback (most recent call last)",
      "\u001b[0;32m<ipython-input-2-f8821408f8c2>\u001b[0m in \u001b[0;36m<module>\u001b[0;34m\u001b[0m\n\u001b[1;32m     11\u001b[0m \u001b[0;32mwhile\u001b[0m \u001b[0;36m1\u001b[0m\u001b[0;34m:\u001b[0m\u001b[0;34m\u001b[0m\u001b[0;34m\u001b[0m\u001b[0m\n\u001b[1;32m     12\u001b[0m     \u001b[0mret\u001b[0m\u001b[0;34m,\u001b[0m \u001b[0mimg\u001b[0m \u001b[0;34m=\u001b[0m \u001b[0mcap\u001b[0m\u001b[0;34m.\u001b[0m\u001b[0mread\u001b[0m\u001b[0;34m(\u001b[0m\u001b[0;34m)\u001b[0m\u001b[0;34m\u001b[0m\u001b[0;34m\u001b[0m\u001b[0m\n\u001b[0;32m---> 13\u001b[0;31m     \u001b[0mcv2\u001b[0m\u001b[0;34m.\u001b[0m\u001b[0mresizeWindow\u001b[0m\u001b[0;34m(\u001b[0m\u001b[0;34m'img'\u001b[0m\u001b[0;34m,\u001b[0m \u001b[0;36m500\u001b[0m\u001b[0;34m,\u001b[0m\u001b[0;36m500\u001b[0m\u001b[0;34m)\u001b[0m\u001b[0;34m\u001b[0m\u001b[0;34m\u001b[0m\u001b[0m\n\u001b[0m\u001b[1;32m     14\u001b[0m     \u001b[0;31m#cv2.line(img,(500,250),(0,250),(0,255,0),1)\u001b[0m\u001b[0;34m\u001b[0m\u001b[0;34m\u001b[0m\u001b[0;34m\u001b[0m\u001b[0m\n\u001b[1;32m     15\u001b[0m     \u001b[0;31m#cv2.line(img,(250,0),(250,500),(0,255,0),1)\u001b[0m\u001b[0;34m\u001b[0m\u001b[0;34m\u001b[0m\u001b[0;34m\u001b[0m\u001b[0m\n",
      "\u001b[0;31merror\u001b[0m: OpenCV(4.1.1) /io/opencv/modules/highgui/src/window_QT.cpp:592: error: (-27:Null pointer) NULL guiReceiver (please create a window) in function 'cvResizeWindow'\n"
     ]
    }
   ],
   "source": [
    "\n",
    "\n",
    "#arduino = serial.Serial('COM1',9600)\n",
    "#time.sleep(2)\n",
    "#print(\"Connection to arduino...\")\n",
    "\n",
    "\n",
    "face_cascade = cv2.CascadeClassifier('/home/dheeraj/my_projects/my_project_env/practice/motion_detector/haarcascade_frontalface_alt2.xml')\n",
    "\n",
    "cap = cv2.VideoCapture(0)\n",
    "count =0\n",
    "\n",
    "while 1:\n",
    "    ret, img = cap.read()\n",
    "    cv2.resizeWindow('img', 500,500)\n",
    "    #cv2.line(img,(500,250),(0,250),(0,255,0),1)\n",
    "    #cv2.line(img,(250,0),(250,500),(0,255,0),1)\n",
    "    #cv2.circle(img, (250, 250), 5, (255, 255, 255), -1)\n",
    "    gray  = cv2.cvtColor(img, cv2.COLOR_BGR2GRAY)\n",
    "    faces = face_cascade.detectMultiScale(gray, 1.1,4)\n",
    "\n",
    "    for (x,y,w,h) in faces:\n",
    "        cv2.rectangle(img,(x,y),(x+w,y+h),(0,255,0),5)\n",
    "        roi_gray  = gray[y:y+h, x:x+w]\n",
    "        roi_color = img[y:y+h, x:x+w]\n",
    "\n",
    "        arr = {y:y+h, x:x+w}\n",
    "        print (arr)\n",
    "\n",
    "        print ('X :' +str(x))\n",
    "        print ('Y :'+str(y))\n",
    "        print ('x+w :' +str(x+w))\n",
    "        print ('y+h :' +str(y+h))\n",
    "\n",
    "        xx = int(x+(x+h))/2\n",
    "        yy = int(y+(y+w))/2\n",
    "\n",
    "        print (xx)\n",
    "        print (yy)\n",
    "\n",
    "        center = (xx,yy)\n",
    "\n",
    "        print(\"Center of Rectangle is :\", center)\n",
    "        #data = \"X{0:.0f}Y{1:.0f}Z\".format(xx, yy)\n",
    "        #print (\"output = '\" +data+ \"'\")\n",
    "        #arduino.write(data.encode())\n",
    "\n",
    "\n",
    "    cv2.imshow('img',img)\n",
    "    if xx>=305 and xx<=325 and yy>=230 and yy<=245 and count==1  :#callibrate it\n",
    "        pyautogui.press('space')\n",
    "        count=0\n",
    "\n",
    "    elif xx>=350 and xx<=365 and yy>=220 and yy<=235 and count==0:#calibrate it\n",
    "        pyautogui.press('space')\n",
    "        count=1\n",
    "\n",
    "\n",
    "\n",
    "    k = cv2.waitKey(30) & 0xff\n",
    "    if k == 27:\n",
    "        break"
   ]
  },
  {
   "cell_type": "code",
   "execution_count": null,
   "metadata": {},
   "outputs": [],
   "source": []
  }
 ],
 "metadata": {
  "kernelspec": {
   "display_name": "Python 3",
   "language": "python",
   "name": "python3"
  },
  "language_info": {
   "codemirror_mode": {
    "name": "ipython",
    "version": 3
   },
   "file_extension": ".py",
   "mimetype": "text/x-python",
   "name": "python",
   "nbconvert_exporter": "python",
   "pygments_lexer": "ipython3",
   "version": "3.6.8"
  }
 },
 "nbformat": 4,
 "nbformat_minor": 2
}

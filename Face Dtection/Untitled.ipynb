{
 "cells": [
  {
   "cell_type": "code",
   "execution_count": 1,
   "metadata": {},
   "outputs": [],
   "source": [
    "import cv2\n",
    "orgimg = cv2.imread('/home/dheeraj/my_projects/my_project_env/practice/motion_detector/Face Dtection/test.jpg')\n",
    "img = cv2.resize(orgimg, (0,0), fx=0.5, fy=0.5)\n",
    "gray = cv2.cvtColor(img, cv2.COLOR_BGR2GRAY)\n"
   ]
  },
  {
   "cell_type": "code",
   "execution_count": 2,
   "metadata": {},
   "outputs": [],
   "source": [
    "# cv2.imshow('Original image',orgimg)\n",
    "# cv2.imshow('Gray image', gray)\n",
    "  \n",
    "# cv2.waitKey(0)\n",
    "# cv2.destroyAllWindows()"
   ]
  },
  {
   "cell_type": "code",
   "execution_count": null,
   "metadata": {},
   "outputs": [],
   "source": [
    "face_cascade = cv2.CascadeClassifier('/home/dheeraj/my_projects/my_project_env/practice/motion_detector/haarcascade_frontalface_alt2.xml')\n",
    "faces = face_cascade.detectMultiScale(gray, 1.3, 5)\n",
    "for (x,y,w,h) in faces:\n",
    "    cv2.rectangle(img, (x,y), (x+w, y+h), (255,0,0), 2)\n",
    "cv2.imshow('img', img)\n",
    "cv2.waitKey(0)\n",
    "cv2.destroyAllWindows()"
   ]
  },
  {
   "cell_type": "code",
   "execution_count": null,
   "metadata": {},
   "outputs": [
    {
     "name": "stdout",
     "output_type": "stream",
     "text": [
      "<class 'numpy.ndarray'>\n",
      "[[ 310  182   62   62]\n",
      " [ 678  227   52   52]\n",
      " [ 858  235   54   54]\n",
      " [ 761  267   50   50]\n",
      " [ 456  217   58   58]\n",
      " [ 583  239   51   51]\n",
      " [ 939  343   67   67]\n",
      " [ 771  357   65   65]\n",
      " [1032  260   65   65]\n",
      " [1144  256   71   71]\n",
      " [ 764  494   72   72]\n",
      " [ 565  522   65   65]\n",
      " [ 944  690   37   37]]\n",
      "(13, 4)\n",
      "Number of faces detected: 13\n"
     ]
    }
   ],
   "source": [
    "import numpy as np\n",
    "import cv2\n",
    "face_cascade = cv2.CascadeClassifier('/home/dheeraj/my_projects/my_project_env/practice/motion_detector/haarcascade_frontalface_alt2.xml')\n",
    "\n",
    "image = cv2.imread('/home/dheeraj/my_projects/my_project_env/practice/motion_detector/Face Dtection/IMG_9261.JPG')\n",
    "img = cv2.resize(image, (0,0), fx=0.24, fy=0.24)\n",
    "grayImage = cv2.cvtColor(img, cv2.COLOR_BGR2GRAY)\n",
    " \n",
    "faces = face_cascade.detectMultiScale(grayImage)\n",
    " \n",
    "print(type(faces))\n",
    " \n",
    "if len(faces) == 0:\n",
    "    print(\"No faces found\")\n",
    " \n",
    "else:\n",
    "    print(faces)\n",
    "    print(faces.shape)\n",
    "    print(\"Number of faces detected: \" + str(faces.shape[0]))\n",
    " \n",
    "    for (x,y,w,h) in faces:\n",
    "        cv2.rectangle(img, (x,y), (x+w, y+h), (255,0,0),2)\n",
    " \n",
    "    cv2.rectangle(image, ((0,img.shape[0] -25)),(270, img.shape[0]), (255,255,255), -1)\n",
    "    cv2.putText(img, \"Number of faces detected: \" + str(faces.shape[0]), (0,img.shape[0] -10), cv2.FONT_HERSHEY_TRIPLEX, 1,  (255,255,255), 2)\n",
    " \n",
    "    cv2.imshow('Image with faces',img)\n",
    "    cv2.waitKey(0)\n",
    "    cv2.destroyAllWindows()"
   ]
  },
  {
   "cell_type": "code",
   "execution_count": null,
   "metadata": {},
   "outputs": [],
   "source": []
  }
 ],
 "metadata": {
  "kernelspec": {
   "display_name": "Python 3",
   "language": "python",
   "name": "python3"
  },
  "language_info": {
   "codemirror_mode": {
    "name": "ipython",
    "version": 3
   },
   "file_extension": ".py",
   "mimetype": "text/x-python",
   "name": "python",
   "nbconvert_exporter": "python",
   "pygments_lexer": "ipython3",
   "version": "3.6.8"
  }
 },
 "nbformat": 4,
 "nbformat_minor": 2
}

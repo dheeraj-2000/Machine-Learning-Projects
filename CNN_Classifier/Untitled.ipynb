{
 "cells": [
  {
   "cell_type": "code",
   "execution_count": 2,
   "metadata": {},
   "outputs": [],
   "source": [
    "import numpy as np\n",
    "import time\n",
    "import cv2"
   ]
  },
  {
   "cell_type": "code",
   "execution_count": 12,
   "metadata": {},
   "outputs": [],
   "source": [
    "image = cv2.imread(\"/home/dheeraj/my_projects/my_project_env/practice/motion_detector/Face Dtection/test.jpg\")\n",
    "\n",
    "rows = open(\"/home/dheeraj/my_projects/my_project_env/practice/motion_detector/CNN_Classifier/synset_words.txt\").read().strip().split(\"\\n\")\n",
    "classes = [r[r.find(\" \") + 1:].split(\",\")[0] for r in rows]"
   ]
  },
  {
   "cell_type": "code",
   "execution_count": 13,
   "metadata": {},
   "outputs": [],
   "source": [
    "blob = cv2.dnn.blobFromImage(image, 1, (224, 224), (104, 117, 123))"
   ]
  },
  {
   "cell_type": "code",
   "execution_count": 14,
   "metadata": {},
   "outputs": [],
   "source": [
    "net = cv2.dnn.readNetFromCaffe(\"/home/dheeraj/my_projects/my_project_env/practice/motion_detector/CNN_Classifier/bvlc_googlenet.prototxt\", \"/home/dheeraj/my_projects/my_project_env/practice/Pretrained_models_of_large_sizes/dnn_imageclassification_caffe/bvlc_googlenet.caffemodel\")"
   ]
  },
  {
   "cell_type": "code",
   "execution_count": 15,
   "metadata": {},
   "outputs": [
    {
     "name": "stdout",
     "output_type": "stream",
     "text": [
      "[INFO] classification took 0.057483 seconds\n"
     ]
    }
   ],
   "source": [
    "net.setInput(blob)\n",
    "start = time.time()\n",
    "preds = net.forward()\n",
    "end = time.time()\n",
    "print(\"[INFO] classification took {:.5} seconds\".format(end - start))"
   ]
  },
  {
   "cell_type": "code",
   "execution_count": 16,
   "metadata": {},
   "outputs": [],
   "source": [
    "idxs = np.argsort(preds[0])[::-1][:5]"
   ]
  },
  {
   "cell_type": "code",
   "execution_count": null,
   "metadata": {},
   "outputs": [
    {
     "name": "stdout",
     "output_type": "stream",
     "text": [
      "[INFO] 1. label: Band Aid, probability: 0.10438\n",
      "[INFO] 2. label: trench coat, probability: 0.055829\n",
      "[INFO] 3. label: sweatshirt, probability: 0.043576\n",
      "[INFO] 4. label: suit, probability: 0.039915\n",
      "[INFO] 5. label: bulletproof vest, probability: 0.038572\n"
     ]
    }
   ],
   "source": [
    "for (i, idx) in enumerate(idxs):\n",
    "    if i == 0:\n",
    "        text = \"Label: {}, {:.2f}%\".format(classes[idx], preds[0][idx] * 100)\n",
    "        cv2.putText(image, text, (5, 25),  cv2.FONT_HERSHEY_SIMPLEX, 0.7, (0, 0, 255), 2)\n",
    "    \n",
    "    print(\"[INFO] {}. label: {}, probability: {:.5}\".format(i + 1, classes[idx], preds[0][idx]))\n",
    "    \n",
    "cv2.imshow(\"Image\", image)\n",
    "cv2.waitKey(0)\n",
    "cv2.destroyAllWindows()"
   ]
  },
  {
   "cell_type": "code",
   "execution_count": null,
   "metadata": {},
   "outputs": [],
   "source": []
  }
 ],
 "metadata": {
  "kernelspec": {
   "display_name": "Python 3",
   "language": "python",
   "name": "python3"
  },
  "language_info": {
   "codemirror_mode": {
    "name": "ipython",
    "version": 3
   },
   "file_extension": ".py",
   "mimetype": "text/x-python",
   "name": "python",
   "nbconvert_exporter": "python",
   "pygments_lexer": "ipython3",
   "version": "3.6.8"
  }
 },
 "nbformat": 4,
 "nbformat_minor": 2
}

{
 "cells": [
  {
   "cell_type": "code",
   "execution_count": 1,
   "metadata": {},
   "outputs": [
    {
     "name": "stderr",
     "output_type": "stream",
     "text": [
      "Using TensorFlow backend.\n"
     ]
    }
   ],
   "source": [
    "import os\n",
    "from keras.preprocessing import image\n",
    "import matplotlib.pyplot as plt \n",
    "import numpy as np\n",
    "from keras.utils.np_utils import to_categorical\n",
    "import random,shutil\n",
    "from keras.models import Sequential\n",
    "from keras.layers import Dropout,Conv2D,Flatten,Dense, MaxPooling2D, BatchNormalization\n",
    "from keras.models import load_model"
   ]
  },
  {
   "cell_type": "code",
   "execution_count": 2,
   "metadata": {},
   "outputs": [
    {
     "name": "stdout",
     "output_type": "stream",
     "text": [
      "Found 1670 images belonging to 2 classes.\n",
      "Found 713 images belonging to 2 classes.\n",
      "52 22\n",
      "Epoch 1/15\n",
      "52/52 [==============================] - 15s 290ms/step - loss: 0.6746 - accuracy: 0.5867 - val_loss: 0.6292 - val_accuracy: 0.7244\n",
      "Epoch 2/15\n",
      "52/52 [==============================] - 6s 117ms/step - loss: 0.5462 - accuracy: 0.7375 - val_loss: 0.5077 - val_accuracy: 0.7739\n",
      "Epoch 3/15\n",
      "52/52 [==============================] - 7s 127ms/step - loss: 0.4692 - accuracy: 0.7827 - val_loss: 0.3374 - val_accuracy: 0.7930\n",
      "Epoch 4/15\n",
      "52/52 [==============================] - 7s 136ms/step - loss: 0.4623 - accuracy: 0.7869 - val_loss: 0.2650 - val_accuracy: 0.7974\n",
      "Epoch 5/15\n",
      "52/52 [==============================] - 6s 124ms/step - loss: 0.3935 - accuracy: 0.8236 - val_loss: 0.3503 - val_accuracy: 0.8047\n",
      "Epoch 6/15\n",
      "52/52 [==============================] - 6s 119ms/step - loss: 0.3525 - accuracy: 0.8468 - val_loss: 0.5165 - val_accuracy: 0.8164\n",
      "Epoch 7/15\n",
      "52/52 [==============================] - 8s 157ms/step - loss: 0.2914 - accuracy: 0.8816 - val_loss: 0.3976 - val_accuracy: 0.8267\n",
      "Epoch 8/15\n",
      "52/52 [==============================] - 6s 112ms/step - loss: 0.2815 - accuracy: 0.8773 - val_loss: 0.4359 - val_accuracy: 0.8297\n",
      "Epoch 9/15\n",
      "52/52 [==============================] - 6s 109ms/step - loss: 0.2393 - accuracy: 0.8987 - val_loss: 0.3240 - val_accuracy: 0.8546\n",
      "Epoch 10/15\n",
      "52/52 [==============================] - 8s 156ms/step - loss: 0.2149 - accuracy: 0.9096 - val_loss: 0.3411 - val_accuracy: 0.8678\n",
      "Epoch 11/15\n",
      "52/52 [==============================] - 11s 207ms/step - loss: 0.1786 - accuracy: 0.9237 - val_loss: 0.3525 - val_accuracy: 0.8649\n",
      "Epoch 12/15\n",
      "52/52 [==============================] - 12s 222ms/step - loss: 0.1542 - accuracy: 0.9328 - val_loss: 0.4308 - val_accuracy: 0.8385\n",
      "Epoch 13/15\n",
      "52/52 [==============================] - 10s 187ms/step - loss: 0.1269 - accuracy: 0.9451 - val_loss: 0.0838 - val_accuracy: 0.8546\n",
      "Epoch 14/15\n",
      "52/52 [==============================] - 7s 130ms/step - loss: 0.1066 - accuracy: 0.9560 - val_loss: 0.3166 - val_accuracy: 0.8605\n",
      "Epoch 15/15\n",
      "52/52 [==============================] - 7s 132ms/step - loss: 0.1033 - accuracy: 0.9603 - val_loss: 0.2805 - val_accuracy: 0.8678\n"
     ]
    }
   ],
   "source": [
    "def generator(dir, gen=image.ImageDataGenerator(rescale=1./255), shuffle=True,batch_size=1,target_size=(24,24),class_mode='categorical' ):\n",
    "\n",
    "    return gen.flow_from_directory(dir,batch_size=batch_size,shuffle=shuffle,color_mode='grayscale',class_mode=class_mode,target_size=target_size)\n",
    "\n",
    "BS= 32\n",
    "TS=(24,24)\n",
    "train_batch= generator('/home/dheeraj/my_projects/my_project_env/practice/motion_detector/Drowsiness Detection/data/train',shuffle=True, batch_size=BS,target_size=TS)\n",
    "valid_batch= generator('/home/dheeraj/my_projects/my_project_env/practice/motion_detector/Drowsiness Detection/data/valid',shuffle=True, batch_size=BS,target_size=TS)\n",
    "SPE= len(train_batch.classes)//BS\n",
    "VS = len(valid_batch.classes)//BS\n",
    "print(SPE,VS)\n",
    "\n",
    "\n",
    "# img,labels= next(train_batch)\n",
    "# print(img.shape)\n",
    "\n",
    "model = Sequential([\n",
    "    Conv2D(32, kernel_size=(3, 3), activation='relu', input_shape=(24,24,1)),\n",
    "    MaxPooling2D(pool_size=(1,1)),\n",
    "    Conv2D(32,(3,3),activation='relu'),\n",
    "    MaxPooling2D(pool_size=(1,1)),\n",
    "    Conv2D(64, (3, 3), activation='relu'),\n",
    "    MaxPooling2D(pool_size=(1,1)),\n",
    "    Dropout(0.25),\n",
    "\n",
    "    Flatten(),\n",
    "\n",
    "    Dense(128, activation='relu'),\n",
    "\n",
    "    Dropout(0.5),\n",
    "\n",
    "    Dense(2, activation='softmax')\n",
    "])\n",
    "\n",
    "model.compile(optimizer='adam',loss='categorical_crossentropy',metrics=['accuracy'])\n",
    "\n",
    "model.fit_generator(train_batch, validation_data=valid_batch,epochs=15,steps_per_epoch=SPE ,validation_steps=VS)\n",
    "\n",
    "model.save('/home/dheeraj/my_projects/my_project_env/practice/motion_detector/Drowsiness Detection/saved_model.pb', overwrite=True)"
   ]
  },
  {
   "cell_type": "code",
   "execution_count": null,
   "metadata": {},
   "outputs": [],
   "source": []
  }
 ],
 "metadata": {
  "kernelspec": {
   "display_name": "Python 3",
   "language": "python",
   "name": "python3"
  },
  "language_info": {
   "codemirror_mode": {
    "name": "ipython",
    "version": 3
   },
   "file_extension": ".py",
   "mimetype": "text/x-python",
   "name": "python",
   "nbconvert_exporter": "python",
   "pygments_lexer": "ipython3",
   "version": "3.6.8"
  }
 },
 "nbformat": 4,
 "nbformat_minor": 2
}
